{
 "cells": [
  {
   "cell_type": "code",
   "execution_count": 1,
   "id": "bbb0ef16-647f-4ec1-b99d-4dd773ede0da",
   "metadata": {},
   "outputs": [],
   "source": [
    "import numpy as np\n",
    "import pandas as pd\n",
    "import matplotlib.pyplot as plt\n"
   ]
  },
  {
   "cell_type": "markdown",
   "id": "eaae37fa-efaa-4f3b-9958-c94fa9a41a29",
   "metadata": {},
   "source": [
    "# Neden NumPy ?"
   ]
  },
  {
   "cell_type": "code",
   "execution_count": 9,
   "id": "8a3f1a63-57ad-4889-8073-df5805e821e0",
   "metadata": {},
   "outputs": [
    {
     "data": {
      "text/plain": [
       "[2, 6, 12, 20]"
      ]
     },
     "execution_count": 9,
     "metadata": {},
     "output_type": "execute_result"
    }
   ],
   "source": [
    "a = [1, 2, 3, 4]\n",
    "b = [2, 3, 4, 5]\n",
    "\n",
    "ab = []\n",
    "\n",
    "for i in range(0, len(a)):\n",
    "    ab.append(a[i]*b[i])\n",
    "ab"
   ]
  },
  {
   "cell_type": "code",
   "execution_count": 10,
   "id": "4ea3f6f6-bc71-40a6-a039-1d209b74fbbd",
   "metadata": {},
   "outputs": [
    {
     "data": {
      "text/plain": [
       "array([ 2,  6, 12, 20])"
      ]
     },
     "execution_count": 10,
     "metadata": {},
     "output_type": "execute_result"
    }
   ],
   "source": [
    "a = np.array([1, 2, 3, 4])\n",
    "b = np.array([2, 3, 4, 5])\n",
    "\n",
    "a*b"
   ]
  },
  {
   "cell_type": "markdown",
   "id": "2f756369-daa0-4844-ab39-fddace30a43f",
   "metadata": {},
   "source": [
    "**Görüldüğü üzere iki vektörün çarpılasmı işlemi numpy arrayleri ile çok daha pratik ve etkili sonuç vermektedir. Numpy kütüphanesi bizi\n",
    "komplek işlemlerden ve karmaşıklıktan kurtarır** **Bu pratik yaklaşım belki bu gibi kolay problemlerde pek fark yaratmayabilir ama ileride oluşturacağımız işlemlerde bu kütüphane bize çok fazla kolaylık sağlayacaktır**"
   ]
  },
  {
   "cell_type": "markdown",
   "id": "61e19c64-70b2-4b0e-8e5d-6a2ac04380ab",
   "metadata": {},
   "source": [
    "**Ayrıca yer tutma maliyetleri de numpy arrayleri listelere göre en az 4 kat daha azdır. Demek istediğimiz şu liste veri yapılarında listenin içindeki her elemanın veri yapısı ayrı ayrı depolanır. Yani listenin içindeki her elemanın \"int\", \"str\", \"float\" mu hangi yapıda olduğu tek tek sorgulanır ve hepsi saklanır. Fakat numpy arraylerinde hepsi bir np.array tipinde olarak saklanır ve buna izin verilir. Yani performans olarakta veri depolarında kapladığı alan olarakta numpy arraylerin daha kullanışlı olduğu kesindir**"
   ]
  },
  {
   "cell_type": "markdown",
   "id": "f8e2ce86-c04f-4199-9d2a-427c45fe15ba",
   "metadata": {},
   "source": [
    "**Özetlemek gerekirse Neden NumPy sorusunun cevabı iki şekildedir. Bir yazılım anlamında daha optimize edilmiş, daha performanslı, daha düşük maliyetli bir saklama, depolama imkanı sunar. İkinci olarak ise matematiksel anlamda, high level işlemler, vektörel operasyonlara, matris işlemlerine ve matematiksel işlemlere imkan sağlar.**"
   ]
  },
  {
   "cell_type": "markdown",
   "id": "dd920ddf-72d8-4d91-b4cb-af6a35a2e0a4",
   "metadata": {},
   "source": [
    " ## Numpy Array'i Oluşturmak\n",
    " Numpy arraylerini sıfırdan da oluşturabiliriz, listeler ile de oluşturabiliriz"
   ]
  },
  {
   "cell_type": "code",
   "execution_count": 11,
   "id": "9719ca53-f265-4fab-ba24-9377709f2c23",
   "metadata": {},
   "outputs": [
    {
     "data": {
      "text/plain": [
       "array([1, 2, 3, 4, 5])"
      ]
     },
     "execution_count": 11,
     "metadata": {},
     "output_type": "execute_result"
    }
   ],
   "source": [
    "import numpy as np\n",
    "\n",
    "np.array([1,2,3,4,5])"
   ]
  },
  {
   "cell_type": "code",
   "execution_count": 13,
   "id": "f06151ca-16ea-4b0a-878e-fa18480c882a",
   "metadata": {},
   "outputs": [
    {
     "data": {
      "text/plain": [
       "numpy.ndarray"
      ]
     },
     "execution_count": 13,
     "metadata": {},
     "output_type": "execute_result"
    }
   ],
   "source": [
    "a = np.array([1,2,3,4,5])\n",
    "\n",
    "type(a)"
   ]
  },
  {
   "cell_type": "markdown",
   "id": "566de11c-4abe-4662-bb00-4b195b638c47",
   "metadata": {},
   "source": [
    "**NumPy'ın tek bir veri tipi tutmak istediğinden bahsetmiştik aşağıda bunun örneğini görüyoruz, bir tane float değer olursa tüm verileri float'a çeviriyor. Biz bir argüman girerek bu durumu değiştirebiliriz. Bu argüman \"dtype\"tır**"
   ]
  },
  {
   "cell_type": "code",
   "execution_count": 18,
   "id": "e0a80cb7-d4e1-4405-a08d-16da811dbf32",
   "metadata": {
    "tags": []
   },
   "outputs": [
    {
     "data": {
      "text/plain": [
       "array([ 3.14,  4.  ,  2.  , 13.  ])"
      ]
     },
     "execution_count": 18,
     "metadata": {},
     "output_type": "execute_result"
    }
   ],
   "source": [
    "b = np.array([3.14, 4, 2, 13])\n",
    "b"
   ]
  },
  {
   "cell_type": "code",
   "execution_count": 19,
   "id": "9e1ccb65-309f-44e0-aa8c-1d525c2783ec",
   "metadata": {
    "tags": []
   },
   "outputs": [
    {
     "data": {
      "text/plain": [
       "array([ 3.14,  4.  ,  2.  , 13.  ], dtype=float32)"
      ]
     },
     "execution_count": 19,
     "metadata": {},
     "output_type": "execute_result"
    }
   ],
   "source": [
    "c = np.array([3.14, 4, 2, 13], dtype =\"float32\")\n",
    "c"
   ]
  },
  {
   "cell_type": "code",
   "execution_count": 20,
   "id": "9fb826e6-1410-4a48-a9e1-158db4d111ce",
   "metadata": {},
   "outputs": [
    {
     "data": {
      "text/plain": [
       "array([ 3,  4,  2, 13])"
      ]
     },
     "execution_count": 20,
     "metadata": {},
     "output_type": "execute_result"
    }
   ],
   "source": [
    "d = np.array([3.14, 4, 2, 13], dtype =\"int\")\n",
    "d"
   ]
  },
  {
   "cell_type": "markdown",
   "id": "d2f07da1-fc04-4b5f-9950-b51435101599",
   "metadata": {},
   "source": [
    "### Sıfırdan array oluşturma \n",
    "**Tek boyutlu array'ler Vektördür, iki boyutlu arrayler matristir**"
   ]
  },
  {
   "cell_type": "code",
   "execution_count": 27,
   "id": "78aacc03-c3be-418e-9165-594e866a2d95",
   "metadata": {},
   "outputs": [
    {
     "data": {
      "text/plain": [
       "array([0, 0, 0, 0, 0, 0, 0, 0, 0, 0])"
      ]
     },
     "execution_count": 27,
     "metadata": {},
     "output_type": "execute_result"
    }
   ],
   "source": [
    "np.zeros(10, dtype = int) # 10 tane sıfırlardan oluşan array oluşturma fonskiyonu"
   ]
  },
  {
   "cell_type": "code",
   "execution_count": 28,
   "id": "62fd9e36-8c2e-44c4-9d82-3d1069c742d2",
   "metadata": {},
   "outputs": [
    {
     "data": {
      "text/plain": [
       "array([[1, 1, 1, 1, 1],\n",
       "       [1, 1, 1, 1, 1],\n",
       "       [1, 1, 1, 1, 1]])"
      ]
     },
     "execution_count": 28,
     "metadata": {},
     "output_type": "execute_result"
    }
   ],
   "source": [
    "np.ones((3, 5), dtype = int) # 3x5'lik yani 3 satır 5 sütundan oluşan, ve tüm elemanları 1 olan bir array oluşturmak, matris oluşturma fonksiyonu"
   ]
  },
  {
   "cell_type": "code",
   "execution_count": 29,
   "id": "d91f3404-7b9f-4830-a0f2-4ed57d76fb98",
   "metadata": {},
   "outputs": [
    {
     "data": {
      "text/plain": [
       "array([[3, 3, 3, 3, 3],\n",
       "       [3, 3, 3, 3, 3],\n",
       "       [3, 3, 3, 3, 3]])"
      ]
     },
     "execution_count": 29,
     "metadata": {},
     "output_type": "execute_result"
    }
   ],
   "source": [
    "np.full((3, 5), 3) # Bizim vermiş olduğumuz boyut bilgisiyle 3'lerden oluşan bir matris, bir array oluşturma fonksiyonu (istediğimiz sayıdan oluşturabiliriz)"
   ]
  },
  {
   "cell_type": "code",
   "execution_count": 30,
   "id": "1249c148-9f65-4edf-87e7-e22f881a251a",
   "metadata": {},
   "outputs": [
    {
     "data": {
      "text/plain": [
       "array([ 0,  3,  6,  9, 12, 15, 18, 21, 24, 27, 30])"
      ]
     },
     "execution_count": 30,
     "metadata": {},
     "output_type": "execute_result"
    }
   ],
   "source": [
    "np.arange(0, 31, 3) # 0'dan 31'e kadar 3'er 3'er artacak şekilde tek boyutlu doğrusal bir array, vektör oluşturmak"
   ]
  },
  {
   "cell_type": "code",
   "execution_count": 31,
   "id": "040bf985-e3a7-4f9e-aad4-934d1015a9f7",
   "metadata": {},
   "outputs": [
    {
     "data": {
      "text/plain": [
       "array([0.        , 0.11111111, 0.22222222, 0.33333333, 0.44444444,\n",
       "       0.55555556, 0.66666667, 0.77777778, 0.88888889, 1.        ])"
      ]
     },
     "execution_count": 31,
     "metadata": {},
     "output_type": "execute_result"
    }
   ],
   "source": [
    "np.linspace(0, 1, 10) # iki değer arasında belirli sayıda değer oluşturma, 0 ile 1 arasında 10 tane değer oluştur"
   ]
  },
  {
   "cell_type": "code",
   "execution_count": 33,
   "id": "21dcd017-97bd-4b9e-8632-e694e365cc83",
   "metadata": {},
   "outputs": [
    {
     "data": {
      "text/plain": [
       "array([[14.31234251, 17.69960048,  6.01542918,  8.7733239 ],\n",
       "       [13.88059205, 11.04109457, 11.44638656, 11.49168717],\n",
       "       [ 6.48204708, 12.20418637, 10.27048952, 11.57951042]])"
      ]
     },
     "execution_count": 33,
     "metadata": {},
     "output_type": "execute_result"
    }
   ],
   "source": [
    "np.random.normal(10, 4, (3,4)) # ortalaması 10, standart sapması 4 olan 3x4'lük normal dağılan bir matris oluşturır, rastgele sayılardan oluşacak şekilde"
   ]
  },
  {
   "cell_type": "code",
   "execution_count": 34,
   "id": "f8d2df63-ed14-4298-9498-28252d736279",
   "metadata": {},
   "outputs": [
    {
     "data": {
      "text/plain": [
       "array([[9, 9, 1],\n",
       "       [2, 3, 2],\n",
       "       [8, 2, 3]])"
      ]
     },
     "execution_count": 34,
     "metadata": {},
     "output_type": "execute_result"
    }
   ],
   "source": [
    "np.random.randint(0, 10, (3,3)) # 0 ile 10 arasında 3x3'lük rastgele int değerlerden oluşan matris oluiturma"
   ]
  },
  {
   "cell_type": "markdown",
   "id": "23a615b4-e142-465d-b2e0-a18e9924985c",
   "metadata": {},
   "source": [
    "## Temel Özellikleri\n",
    "* **ndim**: boyut sayısı\n",
    "* **shape**: boyut bilgisi\n",
    "* **size**: toplam eleman sayısı\n",
    "* **dtype**: array veri tipi"
   ]
  },
  {
   "cell_type": "code",
   "execution_count": 37,
   "id": "9a3c4e82-fd86-4a38-8247-5c0da34d7fad",
   "metadata": {},
   "outputs": [
    {
     "data": {
      "text/plain": [
       "array([9, 1, 4, 9, 9, 4, 3, 8, 9, 7])"
      ]
     },
     "execution_count": 37,
     "metadata": {},
     "output_type": "execute_result"
    }
   ],
   "source": [
    "a = np.random.randint(10, size = 10)\n",
    "a"
   ]
  },
  {
   "cell_type": "code",
   "execution_count": 39,
   "id": "8c9c4224-23c5-4e46-9041-d60adcce54b5",
   "metadata": {},
   "outputs": [
    {
     "data": {
      "text/plain": [
       "1"
      ]
     },
     "execution_count": 39,
     "metadata": {},
     "output_type": "execute_result"
    }
   ],
   "source": [
    "a.ndim # a değişkeninin boyutunu gösterdi"
   ]
  },
  {
   "cell_type": "code",
   "execution_count": 40,
   "id": "60acd5d9-7194-4cff-918c-83ebe49e5631",
   "metadata": {},
   "outputs": [
    {
     "data": {
      "text/plain": [
       "(10,)"
      ]
     },
     "execution_count": 40,
     "metadata": {},
     "output_type": "execute_result"
    }
   ],
   "source": [
    "a.shape # boyut bilgisini verdi, 1 boyutlu olduğu için o boyutun bilgisi gösterildi, o boyutta 10 eleman var olarak gösteri"
   ]
  },
  {
   "cell_type": "code",
   "execution_count": 42,
   "id": "b22cb0ae-8f47-4635-afe6-60b70326b867",
   "metadata": {},
   "outputs": [
    {
     "data": {
      "text/plain": [
       "10"
      ]
     },
     "execution_count": 42,
     "metadata": {},
     "output_type": "execute_result"
    }
   ],
   "source": [
    "a.size # toplam eleman sayısını verdi"
   ]
  },
  {
   "cell_type": "code",
   "execution_count": 44,
   "id": "c96b1da1-44b6-4a28-82ce-982f4f3ff78a",
   "metadata": {},
   "outputs": [
    {
     "data": {
      "text/plain": [
       "dtype('int32')"
      ]
     },
     "execution_count": 44,
     "metadata": {},
     "output_type": "execute_result"
    }
   ],
   "source": [
    "a.dtype # data tipini verdi"
   ]
  },
  {
   "cell_type": "markdown",
   "id": "3994dabb-8220-4e45-8cac-94273ee159fa",
   "metadata": {},
   "source": [
    "Farklılıkları görmek için 2 boyutlu bir array oluşturup onu da inceleyelim"
   ]
  },
  {
   "cell_type": "code",
   "execution_count": 45,
   "id": "143fa67a-edb1-4175-a7a5-3c79f394c033",
   "metadata": {},
   "outputs": [
    {
     "data": {
      "text/plain": [
       "array([[8, 6, 8, 9, 4],\n",
       "       [8, 8, 2, 6, 3],\n",
       "       [1, 6, 8, 1, 0]])"
      ]
     },
     "execution_count": 45,
     "metadata": {},
     "output_type": "execute_result"
    }
   ],
   "source": [
    "b = np.random.randint(10, size =(3,5))\n",
    "b"
   ]
  },
  {
   "cell_type": "code",
   "execution_count": 46,
   "id": "7a234516-5397-4153-a99b-d75457e5c0bf",
   "metadata": {},
   "outputs": [
    {
     "data": {
      "text/plain": [
       "2"
      ]
     },
     "execution_count": 46,
     "metadata": {},
     "output_type": "execute_result"
    }
   ],
   "source": [
    "b.ndim"
   ]
  },
  {
   "cell_type": "code",
   "execution_count": 47,
   "id": "7bb5c1c2-f701-44aa-8019-fbd1d6982a82",
   "metadata": {},
   "outputs": [
    {
     "data": {
      "text/plain": [
       "(3, 5)"
      ]
     },
     "execution_count": 47,
     "metadata": {},
     "output_type": "execute_result"
    }
   ],
   "source": [
    "b.shape"
   ]
  },
  {
   "cell_type": "code",
   "execution_count": 48,
   "id": "a9f4d2f8-1a5f-4d20-b68b-e22e16fa62fa",
   "metadata": {},
   "outputs": [
    {
     "data": {
      "text/plain": [
       "15"
      ]
     },
     "execution_count": 48,
     "metadata": {},
     "output_type": "execute_result"
    }
   ],
   "source": [
    "b.size"
   ]
  },
  {
   "cell_type": "code",
   "execution_count": 49,
   "id": "6998012f-ddd0-41d5-9dc2-cf606b0233e9",
   "metadata": {},
   "outputs": [
    {
     "data": {
      "text/plain": [
       "dtype('int32')"
      ]
     },
     "execution_count": 49,
     "metadata": {},
     "output_type": "execute_result"
    }
   ],
   "source": [
    "b.dtype"
   ]
  },
  {
   "cell_type": "markdown",
   "id": "f83673d5-4657-4aab-9e07-0036695eb822",
   "metadata": {},
   "source": [
    "## Yeniden Şekillendirme (reshaping)"
   ]
  },
  {
   "cell_type": "code",
   "execution_count": 50,
   "id": "89e1d5c8-7211-4d30-a40f-f75424c819d3",
   "metadata": {},
   "outputs": [
    {
     "data": {
      "text/plain": [
       "array([1, 2, 3, 4, 5, 6, 7, 8, 9])"
      ]
     },
     "execution_count": 50,
     "metadata": {},
     "output_type": "execute_result"
    }
   ],
   "source": [
    "np.arange(1,10)"
   ]
  },
  {
   "cell_type": "code",
   "execution_count": 52,
   "id": "25c8d427-5840-449c-a978-a581066216d2",
   "metadata": {},
   "outputs": [
    {
     "data": {
      "text/plain": [
       "array([[1, 2, 3],\n",
       "       [4, 5, 6],\n",
       "       [7, 8, 9]])"
      ]
     },
     "execution_count": 52,
     "metadata": {},
     "output_type": "execute_result"
    }
   ],
   "source": [
    "np.arange(1,10).reshape((3,3))"
   ]
  },
  {
   "cell_type": "code",
   "execution_count": 53,
   "id": "1a9ebd0b-1ac0-4e31-a781-eceebc751bf6",
   "metadata": {},
   "outputs": [
    {
     "data": {
      "text/plain": [
       "array([1, 2, 3, 4, 5, 6, 7, 8, 9])"
      ]
     },
     "execution_count": 53,
     "metadata": {},
     "output_type": "execute_result"
    }
   ],
   "source": [
    "a = np.arange(1,10)\n",
    "a"
   ]
  },
  {
   "cell_type": "code",
   "execution_count": 56,
   "id": "91da0504-31ff-4dff-acd3-8ae2c237a56b",
   "metadata": {},
   "outputs": [],
   "source": [
    "b = a.reshape((1,9))"
   ]
  },
  {
   "cell_type": "code",
   "execution_count": 57,
   "id": "395134fe-24ea-4c6a-a3b0-bc5654a9c735",
   "metadata": {},
   "outputs": [
    {
     "data": {
      "text/plain": [
       "(1, 2)"
      ]
     },
     "execution_count": 57,
     "metadata": {},
     "output_type": "execute_result"
    }
   ],
   "source": [
    "a.ndim, b.ndim"
   ]
  },
  {
   "cell_type": "markdown",
   "id": "713aaecf-6e10-40de-8b8b-f67616a876eb",
   "metadata": {},
   "source": [
    "## Array Birleştirme (Concatenation)"
   ]
  },
  {
   "cell_type": "code",
   "execution_count": 58,
   "id": "fa3ae456-98d7-4555-913d-dbe9db49b967",
   "metadata": {},
   "outputs": [],
   "source": [
    "x = np.array([1,2,3])\n",
    "y = np.array([4,5,6])"
   ]
  },
  {
   "cell_type": "code",
   "execution_count": 59,
   "id": "82f434ac-695f-489e-af8e-1fdeed0d152a",
   "metadata": {},
   "outputs": [
    {
     "data": {
      "text/plain": [
       "array([1, 2, 3, 4, 5, 6])"
      ]
     },
     "execution_count": 59,
     "metadata": {},
     "output_type": "execute_result"
    }
   ],
   "source": [
    "np.concatenate([x,y])"
   ]
  },
  {
   "cell_type": "code",
   "execution_count": 60,
   "id": "dddb3d54-c687-4b35-b0e9-c0c74181c0f7",
   "metadata": {},
   "outputs": [],
   "source": [
    "z = np.array([7,8,9])"
   ]
  },
  {
   "cell_type": "code",
   "execution_count": 61,
   "id": "58acf8f1-2520-45db-84c6-57781c3df5ed",
   "metadata": {},
   "outputs": [
    {
     "data": {
      "text/plain": [
       "array([1, 2, 3, 4, 5, 6, 7, 8, 9])"
      ]
     },
     "execution_count": 61,
     "metadata": {},
     "output_type": "execute_result"
    }
   ],
   "source": [
    "np.concatenate([x,y,z])"
   ]
  },
  {
   "cell_type": "code",
   "execution_count": 62,
   "id": "4e35e75f-c41d-422e-b27f-0cb96019b78a",
   "metadata": {},
   "outputs": [],
   "source": [
    "# ihi noyut\n",
    "\n",
    "a = np.array([[1,2,3],\n",
    "              [4,5,6]])"
   ]
  },
  {
   "cell_type": "code",
   "execution_count": 63,
   "id": "a6017a57-ac3e-49d3-a9a4-a51313eafd1c",
   "metadata": {},
   "outputs": [
    {
     "data": {
      "text/plain": [
       "array([[1, 2, 3],\n",
       "       [4, 5, 6],\n",
       "       [1, 2, 3],\n",
       "       [4, 5, 6]])"
      ]
     },
     "execution_count": 63,
     "metadata": {},
     "output_type": "execute_result"
    }
   ],
   "source": [
    "np.concatenate([a,a])"
   ]
  },
  {
   "cell_type": "code",
   "execution_count": 65,
   "id": "9bbbf282-a6c4-4e37-a699-c3ae067ba739",
   "metadata": {},
   "outputs": [
    {
     "data": {
      "text/plain": [
       "array([[1, 2, 3, 1, 2, 3],\n",
       "       [4, 5, 6, 4, 5, 6]])"
      ]
     },
     "execution_count": 65,
     "metadata": {},
     "output_type": "execute_result"
    }
   ],
   "source": [
    "np.concatenate([a,a], axis=1) # sütun bazında birleştirme"
   ]
  },
  {
   "cell_type": "markdown",
   "id": "1d63605e-fd80-4a38-a7ac-35d0066719c7",
   "metadata": {},
   "source": [
    "## Array Ayırma (Splitting)"
   ]
  },
  {
   "cell_type": "code",
   "execution_count": 66,
   "id": "44078de9-9cba-462f-bfed-b48cb9e8bdcb",
   "metadata": {},
   "outputs": [],
   "source": [
    "x = np.array([1,2,3,99,99,3,2,1])"
   ]
  },
  {
   "cell_type": "code",
   "execution_count": 73,
   "id": "9af299e5-eaa9-4f2c-a2ae-d90403d81c2a",
   "metadata": {},
   "outputs": [
    {
     "data": {
      "text/plain": [
       "[array([1, 2, 3]), array([99, 99]), array([3, 2, 1])]"
      ]
     },
     "execution_count": 73,
     "metadata": {},
     "output_type": "execute_result"
    }
   ],
   "source": [
    "np.split(x, [3,5]) # x'i ayır, 3ten 5^e kadar"
   ]
  },
  {
   "cell_type": "code",
   "execution_count": 74,
   "id": "0fc40e8f-4c1b-4721-afe6-f2d2cf291156",
   "metadata": {},
   "outputs": [
    {
     "data": {
      "text/plain": [
       "array([1, 2, 3])"
      ]
     },
     "execution_count": 74,
     "metadata": {},
     "output_type": "execute_result"
    }
   ],
   "source": [
    "a,b,c = np.split(x, [3,5])\n",
    "a"
   ]
  },
  {
   "cell_type": "code",
   "execution_count": 75,
   "id": "a3f622c8-9425-473d-aba4-ab7f12e6afa4",
   "metadata": {},
   "outputs": [
    {
     "data": {
      "text/plain": [
       "array([99, 99])"
      ]
     },
     "execution_count": 75,
     "metadata": {},
     "output_type": "execute_result"
    }
   ],
   "source": [
    "b"
   ]
  },
  {
   "cell_type": "code",
   "execution_count": 76,
   "id": "18c218b2-4eb2-40c5-a1d1-eb88f41fe5de",
   "metadata": {},
   "outputs": [
    {
     "data": {
      "text/plain": [
       "array([3, 2, 1])"
      ]
     },
     "execution_count": 76,
     "metadata": {},
     "output_type": "execute_result"
    }
   ],
   "source": [
    "c"
   ]
  },
  {
   "cell_type": "code",
   "execution_count": 77,
   "id": "a62a716a-a611-40fa-8d68-deae2085f37d",
   "metadata": {},
   "outputs": [],
   "source": [
    "# iki boyutlu ayırma"
   ]
  },
  {
   "cell_type": "code",
   "execution_count": 78,
   "id": "11384619-f940-4cb6-b6be-b6f1cd15bb19",
   "metadata": {},
   "outputs": [
    {
     "data": {
      "text/plain": [
       "array([[ 0,  1,  2,  3],\n",
       "       [ 4,  5,  6,  7],\n",
       "       [ 8,  9, 10, 11],\n",
       "       [12, 13, 14, 15]])"
      ]
     },
     "execution_count": 78,
     "metadata": {},
     "output_type": "execute_result"
    }
   ],
   "source": [
    "m = np.arange(16).reshape(4,4)\n",
    "m"
   ]
  },
  {
   "cell_type": "code",
   "execution_count": 79,
   "id": "71d7c01c-7d81-42f0-b520-0abfaf0565d8",
   "metadata": {},
   "outputs": [
    {
     "data": {
      "text/plain": [
       "[array([[0, 1, 2, 3],\n",
       "        [4, 5, 6, 7]]),\n",
       " array([[ 8,  9, 10, 11],\n",
       "        [12, 13, 14, 15]])]"
      ]
     },
     "execution_count": 79,
     "metadata": {},
     "output_type": "execute_result"
    }
   ],
   "source": [
    "np.vsplit(m, [2])"
   ]
  },
  {
   "cell_type": "code",
   "execution_count": 87,
   "id": "2cb34c15-0748-4e47-bdec-d9f20cb8ae2a",
   "metadata": {},
   "outputs": [],
   "source": [
    "ust, alt = np.vsplit(m, [2])"
   ]
  },
  {
   "cell_type": "code",
   "execution_count": 81,
   "id": "7fad2ae6-0adb-4f3b-8e87-d2af28faf3af",
   "metadata": {},
   "outputs": [
    {
     "data": {
      "text/plain": [
       "array([[0, 1, 2, 3],\n",
       "       [4, 5, 6, 7]])"
      ]
     },
     "execution_count": 81,
     "metadata": {},
     "output_type": "execute_result"
    }
   ],
   "source": [
    "ust"
   ]
  },
  {
   "cell_type": "code",
   "execution_count": 82,
   "id": "156e84cd-8e8e-4dbb-8b23-1d2b72368ff6",
   "metadata": {},
   "outputs": [
    {
     "data": {
      "text/plain": [
       "array([[ 8,  9, 10, 11],\n",
       "       [12, 13, 14, 15]])"
      ]
     },
     "execution_count": 82,
     "metadata": {},
     "output_type": "execute_result"
    }
   ],
   "source": [
    "alt"
   ]
  },
  {
   "cell_type": "code",
   "execution_count": null,
   "id": "0c2c5ab3-c2f2-47ac-b614-2785f83d85b4",
   "metadata": {},
   "outputs": [],
   "source": [
    "# diker olarak bölme"
   ]
  },
  {
   "cell_type": "code",
   "execution_count": 83,
   "id": "42a111b6-d6db-46ce-8f9c-97ec1f7ade11",
   "metadata": {},
   "outputs": [
    {
     "data": {
      "text/plain": [
       "[array([[ 0,  1],\n",
       "        [ 4,  5],\n",
       "        [ 8,  9],\n",
       "        [12, 13]]),\n",
       " array([[ 2,  3],\n",
       "        [ 6,  7],\n",
       "        [10, 11],\n",
       "        [14, 15]])]"
      ]
     },
     "execution_count": 83,
     "metadata": {},
     "output_type": "execute_result"
    }
   ],
   "source": [
    "np.hsplit(m, [2])"
   ]
  },
  {
   "cell_type": "code",
   "execution_count": 84,
   "id": "8abd8e19-2ac6-4d52-949e-81852e5cfd26",
   "metadata": {},
   "outputs": [],
   "source": [
    "sag, sol = np.hsplit(m, [2])"
   ]
  },
  {
   "cell_type": "code",
   "execution_count": 85,
   "id": "841d66fe-7dea-4520-84f6-1aba974d8935",
   "metadata": {},
   "outputs": [
    {
     "data": {
      "text/plain": [
       "array([[ 0,  1],\n",
       "       [ 4,  5],\n",
       "       [ 8,  9],\n",
       "       [12, 13]])"
      ]
     },
     "execution_count": 85,
     "metadata": {},
     "output_type": "execute_result"
    }
   ],
   "source": [
    "sag"
   ]
  },
  {
   "cell_type": "code",
   "execution_count": 86,
   "id": "d4361a12-24ed-4153-88f6-67066281e08c",
   "metadata": {},
   "outputs": [
    {
     "data": {
      "text/plain": [
       "array([[ 2,  3],\n",
       "       [ 6,  7],\n",
       "       [10, 11],\n",
       "       [14, 15]])"
      ]
     },
     "execution_count": 86,
     "metadata": {},
     "output_type": "execute_result"
    }
   ],
   "source": [
    "sol"
   ]
  },
  {
   "cell_type": "markdown",
   "id": "bb2daf6c-f6f7-4ef0-8753-1486fcb606d4",
   "metadata": {},
   "source": [
    "## Array Sıralama (Sorting)"
   ]
  },
  {
   "cell_type": "code",
   "execution_count": 88,
   "id": "e4528e26-7f5b-4672-bccc-6a1a617a7231",
   "metadata": {},
   "outputs": [
    {
     "data": {
      "text/plain": [
       "array([2, 1, 4, 3, 5])"
      ]
     },
     "execution_count": 88,
     "metadata": {},
     "output_type": "execute_result"
    }
   ],
   "source": [
    "v = np.array([2,1,4,3,5])\n",
    "v"
   ]
  },
  {
   "cell_type": "code",
   "execution_count": 91,
   "id": "b5fc7ca6-9cb5-4369-9976-04c58173d992",
   "metadata": {},
   "outputs": [
    {
     "data": {
      "text/plain": [
       "(array([1, 2, 3, 4, 5]), array([2, 1, 4, 3, 5]))"
      ]
     },
     "execution_count": 91,
     "metadata": {},
     "output_type": "execute_result"
    }
   ],
   "source": [
    "np.sort(v), v # NumPy kütüphanesi içindeki sort() metodu asıl değişkeni değiştirmez fakat python içindeki sort() metodu asıl değişkeni değiştirir"
   ]
  },
  {
   "cell_type": "code",
   "execution_count": 93,
   "id": "4c3b5bde-d5af-4e17-b13b-e15b148b7bf4",
   "metadata": {},
   "outputs": [
    {
     "data": {
      "text/plain": [
       "(None, array([1, 2, 3, 4, 5]))"
      ]
     },
     "execution_count": 93,
     "metadata": {},
     "output_type": "execute_result"
    }
   ],
   "source": [
    "v.sort(), v"
   ]
  },
  {
   "cell_type": "code",
   "execution_count": 95,
   "id": "43d40545-9f0e-4f91-90be-8a5c5dddcda9",
   "metadata": {},
   "outputs": [],
   "source": [
    "# İki boyutta sıralama"
   ]
  },
  {
   "cell_type": "code",
   "execution_count": 97,
   "id": "16c21ac9-1ae2-4b9a-9e3e-f91b31c7459f",
   "metadata": {},
   "outputs": [
    {
     "data": {
      "text/plain": [
       "array([[30.29836289, 18.55679611, 24.30969471],\n",
       "       [13.87400666, 31.00143022, 22.26935459],\n",
       "       [12.84485505, 24.01151628, 13.95253546]])"
      ]
     },
     "execution_count": 97,
     "metadata": {},
     "output_type": "execute_result"
    }
   ],
   "source": [
    "m = np.random.normal(20, 5, (3,3))\n",
    "m"
   ]
  },
  {
   "cell_type": "code",
   "execution_count": 100,
   "id": "4d7b970f-f676-4ee0-bd5b-db9170f0bed3",
   "metadata": {},
   "outputs": [
    {
     "data": {
      "text/plain": [
       "array([[18.55679611, 24.30969471, 30.29836289],\n",
       "       [13.87400666, 22.26935459, 31.00143022],\n",
       "       [12.84485505, 13.95253546, 24.01151628]])"
      ]
     },
     "execution_count": 100,
     "metadata": {},
     "output_type": "execute_result"
    }
   ],
   "source": [
    "np.sort(m, axis = 1) # satıra göre sıralama"
   ]
  },
  {
   "cell_type": "code",
   "execution_count": 101,
   "id": "9aabbd20-b475-494b-b096-4c5eca6c2a5c",
   "metadata": {},
   "outputs": [
    {
     "data": {
      "text/plain": [
       "array([[12.84485505, 18.55679611, 13.95253546],\n",
       "       [13.87400666, 24.01151628, 22.26935459],\n",
       "       [30.29836289, 31.00143022, 24.30969471]])"
      ]
     },
     "execution_count": 101,
     "metadata": {},
     "output_type": "execute_result"
    }
   ],
   "source": [
    "np.sort(m, axis = 0) # sütuna göre sıralama"
   ]
  },
  {
   "cell_type": "markdown",
   "id": "684335a9-ceec-46c6-aae1-d9e35d689774",
   "metadata": {},
   "source": [
    "## Alt Küme Üzerinde İşlem Yapmak"
   ]
  },
  {
   "cell_type": "code",
   "execution_count": 108,
   "id": "56dd6b3c-e14d-4cc7-8081-6d788cd20547",
   "metadata": {},
   "outputs": [
    {
     "data": {
      "text/plain": [
       "array([[9, 5, 3, 4, 6],\n",
       "       [8, 9, 7, 6, 2],\n",
       "       [3, 3, 0, 8, 5],\n",
       "       [9, 0, 6, 7, 7],\n",
       "       [9, 7, 5, 9, 4]])"
      ]
     },
     "execution_count": 108,
     "metadata": {},
     "output_type": "execute_result"
    }
   ],
   "source": [
    "a = np.random.randint(10, size =(5,5))\n",
    "a"
   ]
  },
  {
   "cell_type": "code",
   "execution_count": 109,
   "id": "380cc65d-07ee-4435-9893-5be348d6bc98",
   "metadata": {},
   "outputs": [
    {
     "data": {
      "text/plain": [
       "array([[9, 5],\n",
       "       [8, 9],\n",
       "       [3, 3]])"
      ]
     },
     "execution_count": 109,
     "metadata": {},
     "output_type": "execute_result"
    }
   ],
   "source": [
    "alt_a = a[0:3, 0:2]\n",
    "alt_a"
   ]
  },
  {
   "cell_type": "code",
   "execution_count": 112,
   "id": "274c7ccf-b2b3-48e5-bbaf-daa6e5541430",
   "metadata": {},
   "outputs": [
    {
     "data": {
      "text/plain": [
       "(array([[999,   5],\n",
       "        [  8, 888],\n",
       "        [  3,   3]]),\n",
       " array([[999,   5,   3,   4,   6],\n",
       "        [  8, 888,   7,   6,   2],\n",
       "        [  3,   3,   0,   8,   5],\n",
       "        [  9,   0,   6,   7,   7],\n",
       "        [  9,   7,   5,   9,   4]]))"
      ]
     },
     "execution_count": 112,
     "metadata": {},
     "output_type": "execute_result"
    }
   ],
   "source": [
    "alt_a[0,0] = 999 # Görüldüğü üzere alt küme üzerinde yaptığmız değişken ataması, orjinal a değişkenimizi de değiştirdi.\n",
    "alt_a[1,1] = 888\n",
    "\n",
    "alt_a, a"
   ]
  },
  {
   "cell_type": "markdown",
   "id": "211d272c-2126-4519-90cb-c160fa042a5b",
   "metadata": {},
   "source": [
    "**Bu tarz problemleri yaşamamak için copy() metodunu kullanacağız ve bir kopyada işlemlerimiz gerçekleşecek**"
   ]
  },
  {
   "cell_type": "code",
   "execution_count": 113,
   "id": "8345ff54-2053-4da1-a804-c53a26f46789",
   "metadata": {},
   "outputs": [
    {
     "data": {
      "text/plain": [
       "array([[9, 3, 9, 9, 2],\n",
       "       [6, 1, 9, 4, 8],\n",
       "       [7, 5, 3, 8, 2],\n",
       "       [6, 9, 9, 9, 2],\n",
       "       [8, 4, 6, 0, 5]])"
      ]
     },
     "execution_count": 113,
     "metadata": {},
     "output_type": "execute_result"
    }
   ],
   "source": [
    "b = np.random.randint(10, size =(5,5))\n",
    "b"
   ]
  },
  {
   "cell_type": "code",
   "execution_count": 114,
   "id": "46ff31a1-f588-4eca-8a55-e8cc741cf9cc",
   "metadata": {},
   "outputs": [
    {
     "data": {
      "text/plain": [
       "array([[9, 3],\n",
       "       [6, 1],\n",
       "       [7, 5]])"
      ]
     },
     "execution_count": 114,
     "metadata": {},
     "output_type": "execute_result"
    }
   ],
   "source": [
    "alt_b = b[0:3, 0:2].copy()\n",
    "alt_b"
   ]
  },
  {
   "cell_type": "code",
   "execution_count": 115,
   "id": "91d6da1d-8513-4520-969e-efa3ddd53bb8",
   "metadata": {},
   "outputs": [
    {
     "data": {
      "text/plain": [
       "(array([[999,   3],\n",
       "        [  6,   1],\n",
       "        [  7,   5]]),\n",
       " array([[9, 3, 9, 9, 2],\n",
       "        [6, 1, 9, 4, 8],\n",
       "        [7, 5, 3, 8, 2],\n",
       "        [6, 9, 9, 9, 2],\n",
       "        [8, 4, 6, 0, 5]]))"
      ]
     },
     "execution_count": 115,
     "metadata": {},
     "output_type": "execute_result"
    }
   ],
   "source": [
    "alt_b[0,0] = 999\n",
    "alt_b, b"
   ]
  },
  {
   "cell_type": "markdown",
   "id": "31187ea1-977d-4ce3-957f-365c626eea2f",
   "metadata": {},
   "source": [
    "## Fancy Index ile Elemanlara Erişmek"
   ]
  },
  {
   "cell_type": "code",
   "execution_count": 116,
   "id": "24edb3af-8475-4e5f-9138-de41db99b6b3",
   "metadata": {},
   "outputs": [
    {
     "data": {
      "text/plain": [
       "array([ 0,  3,  6,  9, 12, 15, 18, 21, 24, 27])"
      ]
     },
     "execution_count": 116,
     "metadata": {},
     "output_type": "execute_result"
    }
   ],
   "source": [
    "import numpy as np\n",
    "\n",
    "v = np.arange(0, 30, 3)\n",
    "v"
   ]
  },
  {
   "cell_type": "code",
   "execution_count": 120,
   "id": "6d40b5a1-367c-40dc-b8a0-adeffaac1890",
   "metadata": {},
   "outputs": [
    {
     "data": {
      "text/plain": [
       "(3, 9, 15)"
      ]
     },
     "execution_count": 120,
     "metadata": {},
     "output_type": "execute_result"
    }
   ],
   "source": [
    "v[1], v[3], v[5]"
   ]
  },
  {
   "cell_type": "code",
   "execution_count": 122,
   "id": "509f30bf-d14d-483c-a120-31e8d948171a",
   "metadata": {},
   "outputs": [
    {
     "data": {
      "text/plain": [
       "array([ 3,  9, 15])"
      ]
     },
     "execution_count": 122,
     "metadata": {},
     "output_type": "execute_result"
    }
   ],
   "source": [
    "al_getir = [1, 3, 5]\n",
    "\n",
    "v[al_getir]"
   ]
  },
  {
   "cell_type": "code",
   "execution_count": 123,
   "id": "1ee8830e-f752-4ab1-aec4-f8953dbb00b9",
   "metadata": {},
   "outputs": [],
   "source": [
    "# iki boyutta fancy indexing"
   ]
  },
  {
   "cell_type": "code",
   "execution_count": 124,
   "id": "6ca9aa1e-4d7d-4379-974f-7d35ba560c6d",
   "metadata": {},
   "outputs": [
    {
     "data": {
      "text/plain": [
       "array([[0, 1, 2],\n",
       "       [3, 4, 5],\n",
       "       [6, 7, 8]])"
      ]
     },
     "execution_count": 124,
     "metadata": {},
     "output_type": "execute_result"
    }
   ],
   "source": [
    "m = np.arange(9).reshape((3,3))\n",
    "m"
   ]
  },
  {
   "cell_type": "code",
   "execution_count": 125,
   "id": "b579f8ab-fcda-4ac4-8b63-590efc8e547c",
   "metadata": {},
   "outputs": [
    {
     "data": {
      "text/plain": [
       "array([1, 5])"
      ]
     },
     "execution_count": 125,
     "metadata": {},
     "output_type": "execute_result"
    }
   ],
   "source": [
    "satir = np.array([0,1])\n",
    "sutun = np.array([1,2])\n",
    "\n",
    "m[satir, sutun]"
   ]
  },
  {
   "cell_type": "code",
   "execution_count": 126,
   "id": "76dd6356-674d-4769-8cf8-8c65784fdb3d",
   "metadata": {},
   "outputs": [],
   "source": [
    "# basit indeks ile fancy indeks"
   ]
  },
  {
   "cell_type": "code",
   "execution_count": 127,
   "id": "b70caf77-1d5a-46ca-a158-332e64ee3098",
   "metadata": {},
   "outputs": [
    {
     "data": {
      "text/plain": [
       "array([[0, 1, 2],\n",
       "       [3, 4, 5],\n",
       "       [6, 7, 8]])"
      ]
     },
     "execution_count": 127,
     "metadata": {},
     "output_type": "execute_result"
    }
   ],
   "source": [
    "m"
   ]
  },
  {
   "cell_type": "code",
   "execution_count": 128,
   "id": "c54e5c0e-f976-4a9f-86ff-4890cf64eb52",
   "metadata": {},
   "outputs": [
    {
     "data": {
      "text/plain": [
       "array([1, 2])"
      ]
     },
     "execution_count": 128,
     "metadata": {},
     "output_type": "execute_result"
    }
   ],
   "source": [
    "m[0, [1,2]]"
   ]
  },
  {
   "cell_type": "code",
   "execution_count": 129,
   "id": "5bcb44b3-c989-4722-8d89-37ec254f8406",
   "metadata": {},
   "outputs": [],
   "source": [
    "# slice"
   ]
  },
  {
   "cell_type": "code",
   "execution_count": 130,
   "id": "a1c9a025-f64e-4b7d-9889-cdacebcca152",
   "metadata": {},
   "outputs": [
    {
     "data": {
      "text/plain": [
       "array([[1, 2],\n",
       "       [4, 5],\n",
       "       [7, 8]])"
      ]
     },
     "execution_count": 130,
     "metadata": {},
     "output_type": "execute_result"
    }
   ],
   "source": [
    "m[0:, [1,2]]"
   ]
  },
  {
   "cell_type": "markdown",
   "id": "17e338e5-8b40-46a3-9d43-bea8940ff31b",
   "metadata": {},
   "source": [
    "## Koşullu Eleman işlemleri"
   ]
  },
  {
   "cell_type": "code",
   "execution_count": 131,
   "id": "ce4da487-2205-42c1-91bc-c2d297dbd1ad",
   "metadata": {},
   "outputs": [],
   "source": [
    "v = np.array([1,2,3,4,5])"
   ]
  },
  {
   "cell_type": "code",
   "execution_count": 132,
   "id": "d092d208-0ce1-47c4-8fff-947ea736383c",
   "metadata": {},
   "outputs": [
    {
     "data": {
      "text/plain": [
       "array([ True,  True, False, False, False])"
      ]
     },
     "execution_count": 132,
     "metadata": {},
     "output_type": "execute_result"
    }
   ],
   "source": [
    "v < 3"
   ]
  },
  {
   "cell_type": "code",
   "execution_count": 134,
   "id": "07b9d36e-1524-4a98-bab0-1a2fb6ccfa45",
   "metadata": {},
   "outputs": [
    {
     "data": {
      "text/plain": [
       "array([1, 2])"
      ]
     },
     "execution_count": 134,
     "metadata": {},
     "output_type": "execute_result"
    }
   ],
   "source": [
    "v[v < 3] # sadece true olan değerleri çıkardı"
   ]
  },
  {
   "cell_type": "code",
   "execution_count": 135,
   "id": "efb23838-08f9-4244-8b44-a5dfc841c123",
   "metadata": {},
   "outputs": [
    {
     "data": {
      "text/plain": [
       "array([3, 4, 5])"
      ]
     },
     "execution_count": 135,
     "metadata": {},
     "output_type": "execute_result"
    }
   ],
   "source": [
    "v[v >= 3]"
   ]
  },
  {
   "cell_type": "code",
   "execution_count": 137,
   "id": "76f962cc-8d11-4026-b825-86d497ce1a63",
   "metadata": {},
   "outputs": [
    {
     "data": {
      "text/plain": [
       "array([3])"
      ]
     },
     "execution_count": 137,
     "metadata": {},
     "output_type": "execute_result"
    }
   ],
   "source": [
    "v[v == 3]"
   ]
  },
  {
   "cell_type": "code",
   "execution_count": 138,
   "id": "830b728b-4ae3-4e3b-9958-e06861027493",
   "metadata": {},
   "outputs": [
    {
     "data": {
      "text/plain": [
       "array([1, 2, 4, 5])"
      ]
     },
     "execution_count": 138,
     "metadata": {},
     "output_type": "execute_result"
    }
   ],
   "source": [
    "v[v != 3]"
   ]
  },
  {
   "cell_type": "code",
   "execution_count": 139,
   "id": "7e3429b1-0efa-40fc-aa5e-f2fe0e932120",
   "metadata": {},
   "outputs": [
    {
     "data": {
      "text/plain": [
       "array([1, 2, 3, 4, 5])"
      ]
     },
     "execution_count": 139,
     "metadata": {},
     "output_type": "execute_result"
    }
   ],
   "source": [
    "v"
   ]
  },
  {
   "cell_type": "code",
   "execution_count": 140,
   "id": "77e36cf1-8341-413f-9234-b4297b5d9162",
   "metadata": {},
   "outputs": [
    {
     "data": {
      "text/plain": [
       "array([ 2,  4,  6,  8, 10])"
      ]
     },
     "execution_count": 140,
     "metadata": {},
     "output_type": "execute_result"
    }
   ],
   "source": [
    "v * 2"
   ]
  },
  {
   "cell_type": "code",
   "execution_count": 141,
   "id": "8475670f-e870-4774-9115-d112e3835ade",
   "metadata": {},
   "outputs": [
    {
     "data": {
      "text/plain": [
       "array([0.2, 0.4, 0.6, 0.8, 1. ])"
      ]
     },
     "execution_count": 141,
     "metadata": {},
     "output_type": "execute_result"
    }
   ],
   "source": [
    "v / 5"
   ]
  },
  {
   "cell_type": "code",
   "execution_count": 142,
   "id": "5af5e84e-aa5e-4542-8978-cff4da6cf335",
   "metadata": {},
   "outputs": [
    {
     "data": {
      "text/plain": [
       "array([0.5, 1. , 1.5, 2. , 2.5])"
      ]
     },
     "execution_count": 142,
     "metadata": {},
     "output_type": "execute_result"
    }
   ],
   "source": [
    "v*5/10"
   ]
  },
  {
   "cell_type": "code",
   "execution_count": 143,
   "id": "ca8f5ece-493c-47c0-995d-474d548b7f74",
   "metadata": {},
   "outputs": [
    {
     "data": {
      "text/plain": [
       "array([ 1,  4,  9, 16, 25], dtype=int32)"
      ]
     },
     "execution_count": 143,
     "metadata": {},
     "output_type": "execute_result"
    }
   ],
   "source": [
    "v**2"
   ]
  },
  {
   "cell_type": "markdown",
   "id": "ff7dcdd4-f55b-491c-82db-d824532d3d90",
   "metadata": {},
   "source": [
    "## Matematiksel İşlemler"
   ]
  },
  {
   "cell_type": "code",
   "execution_count": 144,
   "id": "b58b3a14-8f19-49d3-bbf7-20a1fd6ab18a",
   "metadata": {},
   "outputs": [],
   "source": [
    "v = np.array([1,2,3,4,5])"
   ]
  },
  {
   "cell_type": "code",
   "execution_count": 145,
   "id": "3f4d52da-d40b-4f70-aaf4-1a1d8ac2fc6c",
   "metadata": {},
   "outputs": [
    {
     "data": {
      "text/plain": [
       "array([0, 1, 2, 3, 4])"
      ]
     },
     "execution_count": 145,
     "metadata": {},
     "output_type": "execute_result"
    }
   ],
   "source": [
    "v - 1 "
   ]
  },
  {
   "cell_type": "code",
   "execution_count": 146,
   "id": "1774d4c8-69b7-4478-bbe4-918f83915cb8",
   "metadata": {},
   "outputs": [
    {
     "data": {
      "text/plain": [
       "array([ 5, 10, 15, 20, 25])"
      ]
     },
     "execution_count": 146,
     "metadata": {},
     "output_type": "execute_result"
    }
   ],
   "source": [
    "v * 5"
   ]
  },
  {
   "cell_type": "code",
   "execution_count": 147,
   "id": "69dac772-bb62-4b77-9f77-15812cc0d9c9",
   "metadata": {},
   "outputs": [
    {
     "data": {
      "text/plain": [
       "array([0.2, 0.4, 0.6, 0.8, 1. ])"
      ]
     },
     "execution_count": 147,
     "metadata": {},
     "output_type": "execute_result"
    }
   ],
   "source": [
    "v / 5 "
   ]
  },
  {
   "cell_type": "code",
   "execution_count": 148,
   "id": "1a6f216c-a3c8-425b-86ce-c6f34cfd382e",
   "metadata": {},
   "outputs": [
    {
     "data": {
      "text/plain": [
       "array([-0.5,  0. ,  0.5,  1. ,  1.5])"
      ]
     },
     "execution_count": 148,
     "metadata": {},
     "output_type": "execute_result"
    }
   ],
   "source": [
    "v *5/10 -1"
   ]
  },
  {
   "cell_type": "code",
   "execution_count": 149,
   "id": "2145fb8e-0522-47ad-9496-2218941323a3",
   "metadata": {},
   "outputs": [],
   "source": [
    "# ufunc"
   ]
  },
  {
   "cell_type": "code",
   "execution_count": 151,
   "id": "25e3b889-2afc-4f6a-aa7e-9a2a79c84110",
   "metadata": {},
   "outputs": [
    {
     "data": {
      "text/plain": [
       "array([0, 1, 2, 3, 4])"
      ]
     },
     "execution_count": 151,
     "metadata": {},
     "output_type": "execute_result"
    }
   ],
   "source": [
    "np.subtract(v, 1)"
   ]
  },
  {
   "cell_type": "code",
   "execution_count": 152,
   "id": "bccd9c71-6ffc-4b59-aa30-13bc6072c0b2",
   "metadata": {},
   "outputs": [
    {
     "data": {
      "text/plain": [
       "array([2, 3, 4, 5, 6])"
      ]
     },
     "execution_count": 152,
     "metadata": {},
     "output_type": "execute_result"
    }
   ],
   "source": [
    "np.add(v, 1)"
   ]
  },
  {
   "cell_type": "code",
   "execution_count": 153,
   "id": "d2095bab-4c78-439d-8164-ea4b81a3166b",
   "metadata": {},
   "outputs": [
    {
     "data": {
      "text/plain": [
       "array([ 4,  8, 12, 16, 20])"
      ]
     },
     "execution_count": 153,
     "metadata": {},
     "output_type": "execute_result"
    }
   ],
   "source": [
    "np.multiply(v, 4)"
   ]
  },
  {
   "cell_type": "code",
   "execution_count": 154,
   "id": "ce68fc2f-cd79-45ef-95ad-9e7d6355676d",
   "metadata": {},
   "outputs": [
    {
     "data": {
      "text/plain": [
       "array([0.33333333, 0.66666667, 1.        , 1.33333333, 1.66666667])"
      ]
     },
     "execution_count": 154,
     "metadata": {},
     "output_type": "execute_result"
    }
   ],
   "source": [
    "np.divide(v, 3)"
   ]
  },
  {
   "cell_type": "code",
   "execution_count": 155,
   "id": "ceb7e6b0-fca0-45cb-aa96-ada7ed16b33d",
   "metadata": {},
   "outputs": [
    {
     "data": {
      "text/plain": [
       "array([ 1,  4,  9, 16, 25], dtype=int32)"
      ]
     },
     "execution_count": 155,
     "metadata": {},
     "output_type": "execute_result"
    }
   ],
   "source": [
    "np.power(v, 2)"
   ]
  },
  {
   "cell_type": "code",
   "execution_count": 157,
   "id": "23a0d884-1cda-4174-891c-af4fe3a49886",
   "metadata": {},
   "outputs": [
    {
     "data": {
      "text/plain": [
       "array([1, 0, 1, 0, 1], dtype=int32)"
      ]
     },
     "execution_count": 157,
     "metadata": {},
     "output_type": "execute_result"
    }
   ],
   "source": [
    "np.mod(v, 2) # v % 2 'nin karşılığı, ufunc"
   ]
  },
  {
   "cell_type": "code",
   "execution_count": 158,
   "id": "0694b13b-1070-4cca-a824-c4e313f40c8e",
   "metadata": {},
   "outputs": [
    {
     "data": {
      "text/plain": [
       "array([7])"
      ]
     },
     "execution_count": 158,
     "metadata": {},
     "output_type": "execute_result"
    }
   ],
   "source": [
    "np.absolute(np.array([-7]))"
   ]
  },
  {
   "cell_type": "code",
   "execution_count": 159,
   "id": "b198263e-9b38-492f-8a27-e859c45f9e45",
   "metadata": {},
   "outputs": [
    {
     "data": {
      "text/plain": [
       "0.9589157234143065"
      ]
     },
     "execution_count": 159,
     "metadata": {},
     "output_type": "execute_result"
    }
   ],
   "source": [
    "np.sin(360)"
   ]
  },
  {
   "cell_type": "code",
   "execution_count": 160,
   "id": "109c203b-2d4a-4a9a-972b-a70cda47df14",
   "metadata": {},
   "outputs": [
    {
     "data": {
      "text/plain": [
       "-0.5984600690578581"
      ]
     },
     "execution_count": 160,
     "metadata": {},
     "output_type": "execute_result"
    }
   ],
   "source": [
    "np.cos(180)"
   ]
  },
  {
   "cell_type": "code",
   "execution_count": 161,
   "id": "4d1d5ad7-e09c-47be-ab20-917d5188c789",
   "metadata": {},
   "outputs": [
    {
     "data": {
      "text/plain": [
       "array([0.        , 0.69314718, 1.09861229])"
      ]
     },
     "execution_count": 161,
     "metadata": {},
     "output_type": "execute_result"
    }
   ],
   "source": [
    "v = np.array([1,2,3])\n",
    "\n",
    "np.log(v)"
   ]
  },
  {
   "cell_type": "code",
   "execution_count": 162,
   "id": "752462ec-cb25-4f2b-85ea-42de003e6617",
   "metadata": {},
   "outputs": [
    {
     "data": {
      "text/plain": [
       "array([0.       , 1.       , 1.5849625])"
      ]
     },
     "execution_count": 162,
     "metadata": {},
     "output_type": "execute_result"
    }
   ],
   "source": [
    "np.log2(v)"
   ]
  },
  {
   "cell_type": "code",
   "execution_count": 163,
   "id": "e32ce5a7-d252-492f-91ff-6ee59be5a62e",
   "metadata": {},
   "outputs": [
    {
     "data": {
      "text/plain": [
       "array([0.        , 0.30103   , 0.47712125])"
      ]
     },
     "execution_count": 163,
     "metadata": {},
     "output_type": "execute_result"
    }
   ],
   "source": [
    "np.log10(v)"
   ]
  },
  {
   "cell_type": "markdown",
   "id": "66c1d118-2c53-4b52-80ed-0df3af9959f6",
   "metadata": {},
   "source": [
    "## NumPy ile İki Bilinmeyenli Denklem Çözümü"
   ]
  },
  {
   "cell_type": "code",
   "execution_count": 165,
   "id": "e1ac2234-5fdd-4fa6-97e0-5745499cbc1a",
   "metadata": {},
   "outputs": [],
   "source": [
    "import numpy as np"
   ]
  },
  {
   "cell_type": "markdown",
   "id": "287aa462-e883-48e6-8cfe-16602dcdab89",
   "metadata": {},
   "source": [
    "**5*x0 + x1 = 12**<br>\n",
    "**x0 + 3*x1 = 10**<br>\n",
    "**Çözüm Kümesi Nedir ?**"
   ]
  },
  {
   "cell_type": "code",
   "execution_count": 167,
   "id": "1317c8a1-c907-4067-aa43-a51ba77d7a55",
   "metadata": {},
   "outputs": [],
   "source": [
    "a = np.array([[5,1],[1,3]]) # katsayılarımız\n",
    "b = np.array([12,10]) # Çözüm Kümemiz"
   ]
  },
  {
   "cell_type": "code",
   "execution_count": 169,
   "id": "e1c30fcd-f889-480d-8f13-ee0282efd76c",
   "metadata": {},
   "outputs": [
    {
     "data": {
      "text/plain": [
       "(array([[5, 1],\n",
       "        [1, 3]]),\n",
       " array([12, 10]))"
      ]
     },
     "execution_count": 169,
     "metadata": {},
     "output_type": "execute_result"
    }
   ],
   "source": [
    "a, b"
   ]
  },
  {
   "cell_type": "code",
   "execution_count": 171,
   "id": "7757c823-e4b4-4220-92d0-08394544d529",
   "metadata": {},
   "outputs": [
    {
     "data": {
      "text/plain": [
       "array([1.85714286, 2.71428571])"
      ]
     },
     "execution_count": 171,
     "metadata": {},
     "output_type": "execute_result"
    }
   ],
   "source": [
    "x = np.linalg.solve(a, b) # x0 ve x1 değerlerini bul\n",
    "x"
   ]
  },
  {
   "cell_type": "markdown",
   "id": "e9e66ef3-53b3-407f-bb36-01d003d66d6d",
   "metadata": {},
   "source": [
    "**Sağlamasını yapmamız gerekirse ikinci denklemi -5 ile çarpıp taraf tarafa toplama yaparsak x1 değerini bulacağız. Bunu da gerçekleştirelim**"
   ]
  },
  {
   "cell_type": "code",
   "execution_count": 178,
   "id": "0b8edbe9-d77b-438b-8006-c5bacef55a54",
   "metadata": {},
   "outputs": [
    {
     "data": {
      "text/plain": [
       "(array([ -5, -15]), -50)"
      ]
     },
     "execution_count": 178,
     "metadata": {},
     "output_type": "execute_result"
    }
   ],
   "source": [
    "ıkıncı_denklem_carpilmis = a[1] * -5, b[1] * -5\n",
    "ıkıncı_denklem_carpilmis"
   ]
  },
  {
   "cell_type": "code",
   "execution_count": 180,
   "id": "8bcc9494-ddf1-4cb9-a29b-a0343f762027",
   "metadata": {},
   "outputs": [
    {
     "data": {
      "text/plain": [
       "(array([5, 1]), 12)"
      ]
     },
     "execution_count": 180,
     "metadata": {},
     "output_type": "execute_result"
    }
   ],
   "source": [
    "birinci_denklem = a[0], b[0]\n",
    "birinci_denklem"
   ]
  },
  {
   "cell_type": "code",
   "execution_count": 183,
   "id": "c4d3904a-2230-42fa-bd45-42080090dd4a",
   "metadata": {},
   "outputs": [],
   "source": [
    "# -14x1 = -38 denklemini elde ederiz x1'de burdan 2.714 hesaplanır"
   ]
  },
  {
   "cell_type": "code",
   "execution_count": 184,
   "id": "579c9cb2-a849-4bbe-a3db-6a19a86176c2",
   "metadata": {},
   "outputs": [
    {
     "data": {
      "text/plain": [
       "2.7142857142857144"
      ]
     },
     "execution_count": 184,
     "metadata": {},
     "output_type": "execute_result"
    }
   ],
   "source": [
    "-38/-14"
   ]
  },
  {
   "cell_type": "markdown",
   "id": "301547b4-b9f0-4342-9fa2-afbd2c70460d",
   "metadata": {},
   "source": [
    "**Görüldüğü gibi x1 değeri fonksiyonumuzun sonucuyla aynı çıktı sağlamamız sayesinde doğru sonucu elde ettiğimizden emin oluyoruz**"
   ]
  },
  {
   "cell_type": "code",
   "execution_count": null,
   "id": "3b8b8464-c6b7-49b3-bac2-2813ebe7ca18",
   "metadata": {},
   "outputs": [],
   "source": []
  }
 ],
 "metadata": {
  "kernelspec": {
   "display_name": "Python 3 (ipykernel)",
   "language": "python",
   "name": "python3"
  },
  "language_info": {
   "codemirror_mode": {
    "name": "ipython",
    "version": 3
   },
   "file_extension": ".py",
   "mimetype": "text/x-python",
   "name": "python",
   "nbconvert_exporter": "python",
   "pygments_lexer": "ipython3",
   "version": "3.9.13"
  }
 },
 "nbformat": 4,
 "nbformat_minor": 5
}
